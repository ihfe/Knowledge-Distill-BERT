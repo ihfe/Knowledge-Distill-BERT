{
  "nbformat": 4,
  "nbformat_minor": 0,
  "metadata": {
    "colab": {
      "provenance": [],
      "gpuType": "T4"
    },
    "kernelspec": {
      "name": "python3",
      "display_name": "Python 3"
    },
    "language_info": {
      "name": "python"
    },
    "accelerator": "GPU",
    "widgets": {
      "application/vnd.jupyter.widget-state+json": {
        "68363c0db1c744ddab5e37c5f926ae6a": {
          "model_module": "@jupyter-widgets/controls",
          "model_name": "HBoxModel",
          "model_module_version": "1.5.0",
          "state": {
            "_dom_classes": [],
            "_model_module": "@jupyter-widgets/controls",
            "_model_module_version": "1.5.0",
            "_model_name": "HBoxModel",
            "_view_count": null,
            "_view_module": "@jupyter-widgets/controls",
            "_view_module_version": "1.5.0",
            "_view_name": "HBoxView",
            "box_style": "",
            "children": [
              "IPY_MODEL_d0902a55277f48eeaf7c7251ea894439",
              "IPY_MODEL_f62a58d7f0164617b475356a4a925cdc",
              "IPY_MODEL_e15e27f411a649d780d8a4157791df5c"
            ],
            "layout": "IPY_MODEL_a4eb4a6f77e54fd29f33a9b1638a98f4"
          }
        },
        "d0902a55277f48eeaf7c7251ea894439": {
          "model_module": "@jupyter-widgets/controls",
          "model_name": "HTMLModel",
          "model_module_version": "1.5.0",
          "state": {
            "_dom_classes": [],
            "_model_module": "@jupyter-widgets/controls",
            "_model_module_version": "1.5.0",
            "_model_name": "HTMLModel",
            "_view_count": null,
            "_view_module": "@jupyter-widgets/controls",
            "_view_module_version": "1.5.0",
            "_view_name": "HTMLView",
            "description": "",
            "description_tooltip": null,
            "layout": "IPY_MODEL_d151346d0e684dd7a8ed80723f9afb54",
            "placeholder": "​",
            "style": "IPY_MODEL_3bccdda9e91a4173b93f5fec853513b1",
            "value": "config.json: 100%"
          }
        },
        "f62a58d7f0164617b475356a4a925cdc": {
          "model_module": "@jupyter-widgets/controls",
          "model_name": "FloatProgressModel",
          "model_module_version": "1.5.0",
          "state": {
            "_dom_classes": [],
            "_model_module": "@jupyter-widgets/controls",
            "_model_module_version": "1.5.0",
            "_model_name": "FloatProgressModel",
            "_view_count": null,
            "_view_module": "@jupyter-widgets/controls",
            "_view_module_version": "1.5.0",
            "_view_name": "ProgressView",
            "bar_style": "success",
            "description": "",
            "description_tooltip": null,
            "layout": "IPY_MODEL_cb9279eb8f514f738df9934f0897ae15",
            "max": 409,
            "min": 0,
            "orientation": "horizontal",
            "style": "IPY_MODEL_3bda149486fb4a2c9e65d3eca4887091",
            "value": 409
          }
        },
        "e15e27f411a649d780d8a4157791df5c": {
          "model_module": "@jupyter-widgets/controls",
          "model_name": "HTMLModel",
          "model_module_version": "1.5.0",
          "state": {
            "_dom_classes": [],
            "_model_module": "@jupyter-widgets/controls",
            "_model_module_version": "1.5.0",
            "_model_name": "HTMLModel",
            "_view_count": null,
            "_view_module": "@jupyter-widgets/controls",
            "_view_module_version": "1.5.0",
            "_view_name": "HTMLView",
            "description": "",
            "description_tooltip": null,
            "layout": "IPY_MODEL_f41c9be6ef5c469d8bd19d99e9d13ac4",
            "placeholder": "​",
            "style": "IPY_MODEL_dc170f50546145e3a72ecf0b015ba7dc",
            "value": " 409/409 [00:00&lt;00:00, 28.0kB/s]"
          }
        },
        "a4eb4a6f77e54fd29f33a9b1638a98f4": {
          "model_module": "@jupyter-widgets/base",
          "model_name": "LayoutModel",
          "model_module_version": "1.2.0",
          "state": {
            "_model_module": "@jupyter-widgets/base",
            "_model_module_version": "1.2.0",
            "_model_name": "LayoutModel",
            "_view_count": null,
            "_view_module": "@jupyter-widgets/base",
            "_view_module_version": "1.2.0",
            "_view_name": "LayoutView",
            "align_content": null,
            "align_items": null,
            "align_self": null,
            "border": null,
            "bottom": null,
            "display": null,
            "flex": null,
            "flex_flow": null,
            "grid_area": null,
            "grid_auto_columns": null,
            "grid_auto_flow": null,
            "grid_auto_rows": null,
            "grid_column": null,
            "grid_gap": null,
            "grid_row": null,
            "grid_template_areas": null,
            "grid_template_columns": null,
            "grid_template_rows": null,
            "height": null,
            "justify_content": null,
            "justify_items": null,
            "left": null,
            "margin": null,
            "max_height": null,
            "max_width": null,
            "min_height": null,
            "min_width": null,
            "object_fit": null,
            "object_position": null,
            "order": null,
            "overflow": null,
            "overflow_x": null,
            "overflow_y": null,
            "padding": null,
            "right": null,
            "top": null,
            "visibility": null,
            "width": null
          }
        },
        "d151346d0e684dd7a8ed80723f9afb54": {
          "model_module": "@jupyter-widgets/base",
          "model_name": "LayoutModel",
          "model_module_version": "1.2.0",
          "state": {
            "_model_module": "@jupyter-widgets/base",
            "_model_module_version": "1.2.0",
            "_model_name": "LayoutModel",
            "_view_count": null,
            "_view_module": "@jupyter-widgets/base",
            "_view_module_version": "1.2.0",
            "_view_name": "LayoutView",
            "align_content": null,
            "align_items": null,
            "align_self": null,
            "border": null,
            "bottom": null,
            "display": null,
            "flex": null,
            "flex_flow": null,
            "grid_area": null,
            "grid_auto_columns": null,
            "grid_auto_flow": null,
            "grid_auto_rows": null,
            "grid_column": null,
            "grid_gap": null,
            "grid_row": null,
            "grid_template_areas": null,
            "grid_template_columns": null,
            "grid_template_rows": null,
            "height": null,
            "justify_content": null,
            "justify_items": null,
            "left": null,
            "margin": null,
            "max_height": null,
            "max_width": null,
            "min_height": null,
            "min_width": null,
            "object_fit": null,
            "object_position": null,
            "order": null,
            "overflow": null,
            "overflow_x": null,
            "overflow_y": null,
            "padding": null,
            "right": null,
            "top": null,
            "visibility": null,
            "width": null
          }
        },
        "3bccdda9e91a4173b93f5fec853513b1": {
          "model_module": "@jupyter-widgets/controls",
          "model_name": "DescriptionStyleModel",
          "model_module_version": "1.5.0",
          "state": {
            "_model_module": "@jupyter-widgets/controls",
            "_model_module_version": "1.5.0",
            "_model_name": "DescriptionStyleModel",
            "_view_count": null,
            "_view_module": "@jupyter-widgets/base",
            "_view_module_version": "1.2.0",
            "_view_name": "StyleView",
            "description_width": ""
          }
        },
        "cb9279eb8f514f738df9934f0897ae15": {
          "model_module": "@jupyter-widgets/base",
          "model_name": "LayoutModel",
          "model_module_version": "1.2.0",
          "state": {
            "_model_module": "@jupyter-widgets/base",
            "_model_module_version": "1.2.0",
            "_model_name": "LayoutModel",
            "_view_count": null,
            "_view_module": "@jupyter-widgets/base",
            "_view_module_version": "1.2.0",
            "_view_name": "LayoutView",
            "align_content": null,
            "align_items": null,
            "align_self": null,
            "border": null,
            "bottom": null,
            "display": null,
            "flex": null,
            "flex_flow": null,
            "grid_area": null,
            "grid_auto_columns": null,
            "grid_auto_flow": null,
            "grid_auto_rows": null,
            "grid_column": null,
            "grid_gap": null,
            "grid_row": null,
            "grid_template_areas": null,
            "grid_template_columns": null,
            "grid_template_rows": null,
            "height": null,
            "justify_content": null,
            "justify_items": null,
            "left": null,
            "margin": null,
            "max_height": null,
            "max_width": null,
            "min_height": null,
            "min_width": null,
            "object_fit": null,
            "object_position": null,
            "order": null,
            "overflow": null,
            "overflow_x": null,
            "overflow_y": null,
            "padding": null,
            "right": null,
            "top": null,
            "visibility": null,
            "width": null
          }
        },
        "3bda149486fb4a2c9e65d3eca4887091": {
          "model_module": "@jupyter-widgets/controls",
          "model_name": "ProgressStyleModel",
          "model_module_version": "1.5.0",
          "state": {
            "_model_module": "@jupyter-widgets/controls",
            "_model_module_version": "1.5.0",
            "_model_name": "ProgressStyleModel",
            "_view_count": null,
            "_view_module": "@jupyter-widgets/base",
            "_view_module_version": "1.2.0",
            "_view_name": "StyleView",
            "bar_color": null,
            "description_width": ""
          }
        },
        "f41c9be6ef5c469d8bd19d99e9d13ac4": {
          "model_module": "@jupyter-widgets/base",
          "model_name": "LayoutModel",
          "model_module_version": "1.2.0",
          "state": {
            "_model_module": "@jupyter-widgets/base",
            "_model_module_version": "1.2.0",
            "_model_name": "LayoutModel",
            "_view_count": null,
            "_view_module": "@jupyter-widgets/base",
            "_view_module_version": "1.2.0",
            "_view_name": "LayoutView",
            "align_content": null,
            "align_items": null,
            "align_self": null,
            "border": null,
            "bottom": null,
            "display": null,
            "flex": null,
            "flex_flow": null,
            "grid_area": null,
            "grid_auto_columns": null,
            "grid_auto_flow": null,
            "grid_auto_rows": null,
            "grid_column": null,
            "grid_gap": null,
            "grid_row": null,
            "grid_template_areas": null,
            "grid_template_columns": null,
            "grid_template_rows": null,
            "height": null,
            "justify_content": null,
            "justify_items": null,
            "left": null,
            "margin": null,
            "max_height": null,
            "max_width": null,
            "min_height": null,
            "min_width": null,
            "object_fit": null,
            "object_position": null,
            "order": null,
            "overflow": null,
            "overflow_x": null,
            "overflow_y": null,
            "padding": null,
            "right": null,
            "top": null,
            "visibility": null,
            "width": null
          }
        },
        "dc170f50546145e3a72ecf0b015ba7dc": {
          "model_module": "@jupyter-widgets/controls",
          "model_name": "DescriptionStyleModel",
          "model_module_version": "1.5.0",
          "state": {
            "_model_module": "@jupyter-widgets/controls",
            "_model_module_version": "1.5.0",
            "_model_name": "DescriptionStyleModel",
            "_view_count": null,
            "_view_module": "@jupyter-widgets/base",
            "_view_module_version": "1.2.0",
            "_view_name": "StyleView",
            "description_width": ""
          }
        },
        "8deaae2f4f714126ae216d608caf11b5": {
          "model_module": "@jupyter-widgets/controls",
          "model_name": "HBoxModel",
          "model_module_version": "1.5.0",
          "state": {
            "_dom_classes": [],
            "_model_module": "@jupyter-widgets/controls",
            "_model_module_version": "1.5.0",
            "_model_name": "HBoxModel",
            "_view_count": null,
            "_view_module": "@jupyter-widgets/controls",
            "_view_module_version": "1.5.0",
            "_view_name": "HBoxView",
            "box_style": "",
            "children": [
              "IPY_MODEL_071be98422c24a10b0c69bc25ed1b983",
              "IPY_MODEL_7282322cd50b4428a1c4813fc4d41444",
              "IPY_MODEL_2363269d0d33464db26a63d84e06001f"
            ],
            "layout": "IPY_MODEL_91ef41d7000542cf883cb88cb9be450d"
          }
        },
        "071be98422c24a10b0c69bc25ed1b983": {
          "model_module": "@jupyter-widgets/controls",
          "model_name": "HTMLModel",
          "model_module_version": "1.5.0",
          "state": {
            "_dom_classes": [],
            "_model_module": "@jupyter-widgets/controls",
            "_model_module_version": "1.5.0",
            "_model_name": "HTMLModel",
            "_view_count": null,
            "_view_module": "@jupyter-widgets/controls",
            "_view_module_version": "1.5.0",
            "_view_name": "HTMLView",
            "description": "",
            "description_tooltip": null,
            "layout": "IPY_MODEL_a95c8cf3cba544049be6fd86def60322",
            "placeholder": "​",
            "style": "IPY_MODEL_468a2df1a8cc4ea6957f80ca2cdd61cf",
            "value": "pytorch_model.bin: 100%"
          }
        },
        "7282322cd50b4428a1c4813fc4d41444": {
          "model_module": "@jupyter-widgets/controls",
          "model_name": "FloatProgressModel",
          "model_module_version": "1.5.0",
          "state": {
            "_dom_classes": [],
            "_model_module": "@jupyter-widgets/controls",
            "_model_module_version": "1.5.0",
            "_model_name": "FloatProgressModel",
            "_view_count": null,
            "_view_module": "@jupyter-widgets/controls",
            "_view_module_version": "1.5.0",
            "_view_name": "ProgressView",
            "bar_style": "success",
            "description": "",
            "description_tooltip": null,
            "layout": "IPY_MODEL_d7a8437649f04166ba0e613f3ef215a1",
            "max": 62747391,
            "min": 0,
            "orientation": "horizontal",
            "style": "IPY_MODEL_e8ea8065543046da9541bec3c6d35020",
            "value": 62747391
          }
        },
        "2363269d0d33464db26a63d84e06001f": {
          "model_module": "@jupyter-widgets/controls",
          "model_name": "HTMLModel",
          "model_module_version": "1.5.0",
          "state": {
            "_dom_classes": [],
            "_model_module": "@jupyter-widgets/controls",
            "_model_module_version": "1.5.0",
            "_model_name": "HTMLModel",
            "_view_count": null,
            "_view_module": "@jupyter-widgets/controls",
            "_view_module_version": "1.5.0",
            "_view_name": "HTMLView",
            "description": "",
            "description_tooltip": null,
            "layout": "IPY_MODEL_8de0fc57d6204a2fa77c08496f1b2bd5",
            "placeholder": "​",
            "style": "IPY_MODEL_711c662b97964f72aa4ad3767a1de123",
            "value": " 62.7M/62.7M [00:00&lt;00:00, 203MB/s]"
          }
        },
        "91ef41d7000542cf883cb88cb9be450d": {
          "model_module": "@jupyter-widgets/base",
          "model_name": "LayoutModel",
          "model_module_version": "1.2.0",
          "state": {
            "_model_module": "@jupyter-widgets/base",
            "_model_module_version": "1.2.0",
            "_model_name": "LayoutModel",
            "_view_count": null,
            "_view_module": "@jupyter-widgets/base",
            "_view_module_version": "1.2.0",
            "_view_name": "LayoutView",
            "align_content": null,
            "align_items": null,
            "align_self": null,
            "border": null,
            "bottom": null,
            "display": null,
            "flex": null,
            "flex_flow": null,
            "grid_area": null,
            "grid_auto_columns": null,
            "grid_auto_flow": null,
            "grid_auto_rows": null,
            "grid_column": null,
            "grid_gap": null,
            "grid_row": null,
            "grid_template_areas": null,
            "grid_template_columns": null,
            "grid_template_rows": null,
            "height": null,
            "justify_content": null,
            "justify_items": null,
            "left": null,
            "margin": null,
            "max_height": null,
            "max_width": null,
            "min_height": null,
            "min_width": null,
            "object_fit": null,
            "object_position": null,
            "order": null,
            "overflow": null,
            "overflow_x": null,
            "overflow_y": null,
            "padding": null,
            "right": null,
            "top": null,
            "visibility": null,
            "width": null
          }
        },
        "a95c8cf3cba544049be6fd86def60322": {
          "model_module": "@jupyter-widgets/base",
          "model_name": "LayoutModel",
          "model_module_version": "1.2.0",
          "state": {
            "_model_module": "@jupyter-widgets/base",
            "_model_module_version": "1.2.0",
            "_model_name": "LayoutModel",
            "_view_count": null,
            "_view_module": "@jupyter-widgets/base",
            "_view_module_version": "1.2.0",
            "_view_name": "LayoutView",
            "align_content": null,
            "align_items": null,
            "align_self": null,
            "border": null,
            "bottom": null,
            "display": null,
            "flex": null,
            "flex_flow": null,
            "grid_area": null,
            "grid_auto_columns": null,
            "grid_auto_flow": null,
            "grid_auto_rows": null,
            "grid_column": null,
            "grid_gap": null,
            "grid_row": null,
            "grid_template_areas": null,
            "grid_template_columns": null,
            "grid_template_rows": null,
            "height": null,
            "justify_content": null,
            "justify_items": null,
            "left": null,
            "margin": null,
            "max_height": null,
            "max_width": null,
            "min_height": null,
            "min_width": null,
            "object_fit": null,
            "object_position": null,
            "order": null,
            "overflow": null,
            "overflow_x": null,
            "overflow_y": null,
            "padding": null,
            "right": null,
            "top": null,
            "visibility": null,
            "width": null
          }
        },
        "468a2df1a8cc4ea6957f80ca2cdd61cf": {
          "model_module": "@jupyter-widgets/controls",
          "model_name": "DescriptionStyleModel",
          "model_module_version": "1.5.0",
          "state": {
            "_model_module": "@jupyter-widgets/controls",
            "_model_module_version": "1.5.0",
            "_model_name": "DescriptionStyleModel",
            "_view_count": null,
            "_view_module": "@jupyter-widgets/base",
            "_view_module_version": "1.2.0",
            "_view_name": "StyleView",
            "description_width": ""
          }
        },
        "d7a8437649f04166ba0e613f3ef215a1": {
          "model_module": "@jupyter-widgets/base",
          "model_name": "LayoutModel",
          "model_module_version": "1.2.0",
          "state": {
            "_model_module": "@jupyter-widgets/base",
            "_model_module_version": "1.2.0",
            "_model_name": "LayoutModel",
            "_view_count": null,
            "_view_module": "@jupyter-widgets/base",
            "_view_module_version": "1.2.0",
            "_view_name": "LayoutView",
            "align_content": null,
            "align_items": null,
            "align_self": null,
            "border": null,
            "bottom": null,
            "display": null,
            "flex": null,
            "flex_flow": null,
            "grid_area": null,
            "grid_auto_columns": null,
            "grid_auto_flow": null,
            "grid_auto_rows": null,
            "grid_column": null,
            "grid_gap": null,
            "grid_row": null,
            "grid_template_areas": null,
            "grid_template_columns": null,
            "grid_template_rows": null,
            "height": null,
            "justify_content": null,
            "justify_items": null,
            "left": null,
            "margin": null,
            "max_height": null,
            "max_width": null,
            "min_height": null,
            "min_width": null,
            "object_fit": null,
            "object_position": null,
            "order": null,
            "overflow": null,
            "overflow_x": null,
            "overflow_y": null,
            "padding": null,
            "right": null,
            "top": null,
            "visibility": null,
            "width": null
          }
        },
        "e8ea8065543046da9541bec3c6d35020": {
          "model_module": "@jupyter-widgets/controls",
          "model_name": "ProgressStyleModel",
          "model_module_version": "1.5.0",
          "state": {
            "_model_module": "@jupyter-widgets/controls",
            "_model_module_version": "1.5.0",
            "_model_name": "ProgressStyleModel",
            "_view_count": null,
            "_view_module": "@jupyter-widgets/base",
            "_view_module_version": "1.2.0",
            "_view_name": "StyleView",
            "bar_color": null,
            "description_width": ""
          }
        },
        "8de0fc57d6204a2fa77c08496f1b2bd5": {
          "model_module": "@jupyter-widgets/base",
          "model_name": "LayoutModel",
          "model_module_version": "1.2.0",
          "state": {
            "_model_module": "@jupyter-widgets/base",
            "_model_module_version": "1.2.0",
            "_model_name": "LayoutModel",
            "_view_count": null,
            "_view_module": "@jupyter-widgets/base",
            "_view_module_version": "1.2.0",
            "_view_name": "LayoutView",
            "align_content": null,
            "align_items": null,
            "align_self": null,
            "border": null,
            "bottom": null,
            "display": null,
            "flex": null,
            "flex_flow": null,
            "grid_area": null,
            "grid_auto_columns": null,
            "grid_auto_flow": null,
            "grid_auto_rows": null,
            "grid_column": null,
            "grid_gap": null,
            "grid_row": null,
            "grid_template_areas": null,
            "grid_template_columns": null,
            "grid_template_rows": null,
            "height": null,
            "justify_content": null,
            "justify_items": null,
            "left": null,
            "margin": null,
            "max_height": null,
            "max_width": null,
            "min_height": null,
            "min_width": null,
            "object_fit": null,
            "object_position": null,
            "order": null,
            "overflow": null,
            "overflow_x": null,
            "overflow_y": null,
            "padding": null,
            "right": null,
            "top": null,
            "visibility": null,
            "width": null
          }
        },
        "711c662b97964f72aa4ad3767a1de123": {
          "model_module": "@jupyter-widgets/controls",
          "model_name": "DescriptionStyleModel",
          "model_module_version": "1.5.0",
          "state": {
            "_model_module": "@jupyter-widgets/controls",
            "_model_module_version": "1.5.0",
            "_model_name": "DescriptionStyleModel",
            "_view_count": null,
            "_view_module": "@jupyter-widgets/base",
            "_view_module_version": "1.2.0",
            "_view_name": "StyleView",
            "description_width": ""
          }
        },
        "36dc372d75324eea8c4df793faca097d": {
          "model_module": "@jupyter-widgets/controls",
          "model_name": "HBoxModel",
          "model_module_version": "1.5.0",
          "state": {
            "_dom_classes": [],
            "_model_module": "@jupyter-widgets/controls",
            "_model_module_version": "1.5.0",
            "_model_name": "HBoxModel",
            "_view_count": null,
            "_view_module": "@jupyter-widgets/controls",
            "_view_module_version": "1.5.0",
            "_view_name": "HBoxView",
            "box_style": "",
            "children": [
              "IPY_MODEL_d44387b5a67d41d486767748b45575bd",
              "IPY_MODEL_0b997ee1c935452d8da85c2f7fd391c1",
              "IPY_MODEL_eee5731ada684d999a1ca5715fb0f3e1"
            ],
            "layout": "IPY_MODEL_f0796a14fba242899d1953c920ffe617"
          }
        },
        "d44387b5a67d41d486767748b45575bd": {
          "model_module": "@jupyter-widgets/controls",
          "model_name": "HTMLModel",
          "model_module_version": "1.5.0",
          "state": {
            "_dom_classes": [],
            "_model_module": "@jupyter-widgets/controls",
            "_model_module_version": "1.5.0",
            "_model_name": "HTMLModel",
            "_view_count": null,
            "_view_module": "@jupyter-widgets/controls",
            "_view_module_version": "1.5.0",
            "_view_name": "HTMLView",
            "description": "",
            "description_tooltip": null,
            "layout": "IPY_MODEL_902f82c5b3c547d7abcc936fee3adc1b",
            "placeholder": "​",
            "style": "IPY_MODEL_1c0199b1796c4ebc8f1b3e4ca558cd7f",
            "value": "model.safetensors: 100%"
          }
        },
        "0b997ee1c935452d8da85c2f7fd391c1": {
          "model_module": "@jupyter-widgets/controls",
          "model_name": "FloatProgressModel",
          "model_module_version": "1.5.0",
          "state": {
            "_dom_classes": [],
            "_model_module": "@jupyter-widgets/controls",
            "_model_module_version": "1.5.0",
            "_model_name": "FloatProgressModel",
            "_view_count": null,
            "_view_module": "@jupyter-widgets/controls",
            "_view_module_version": "1.5.0",
            "_view_name": "ProgressView",
            "bar_style": "success",
            "description": "",
            "description_tooltip": null,
            "layout": "IPY_MODEL_f0127c3028d7422eb5f1e1e5df40378e",
            "max": 62736192,
            "min": 0,
            "orientation": "horizontal",
            "style": "IPY_MODEL_4ef4c9cf4ee948919fd4d99ba7506288",
            "value": 62736192
          }
        },
        "eee5731ada684d999a1ca5715fb0f3e1": {
          "model_module": "@jupyter-widgets/controls",
          "model_name": "HTMLModel",
          "model_module_version": "1.5.0",
          "state": {
            "_dom_classes": [],
            "_model_module": "@jupyter-widgets/controls",
            "_model_module_version": "1.5.0",
            "_model_name": "HTMLModel",
            "_view_count": null,
            "_view_module": "@jupyter-widgets/controls",
            "_view_module_version": "1.5.0",
            "_view_name": "HTMLView",
            "description": "",
            "description_tooltip": null,
            "layout": "IPY_MODEL_43f99095e1ca4769bd3818445506e720",
            "placeholder": "​",
            "style": "IPY_MODEL_fa84a250b7b24dfdb992be88826f908c",
            "value": " 62.7M/62.7M [00:00&lt;00:00, 90.7MB/s]"
          }
        },
        "f0796a14fba242899d1953c920ffe617": {
          "model_module": "@jupyter-widgets/base",
          "model_name": "LayoutModel",
          "model_module_version": "1.2.0",
          "state": {
            "_model_module": "@jupyter-widgets/base",
            "_model_module_version": "1.2.0",
            "_model_name": "LayoutModel",
            "_view_count": null,
            "_view_module": "@jupyter-widgets/base",
            "_view_module_version": "1.2.0",
            "_view_name": "LayoutView",
            "align_content": null,
            "align_items": null,
            "align_self": null,
            "border": null,
            "bottom": null,
            "display": null,
            "flex": null,
            "flex_flow": null,
            "grid_area": null,
            "grid_auto_columns": null,
            "grid_auto_flow": null,
            "grid_auto_rows": null,
            "grid_column": null,
            "grid_gap": null,
            "grid_row": null,
            "grid_template_areas": null,
            "grid_template_columns": null,
            "grid_template_rows": null,
            "height": null,
            "justify_content": null,
            "justify_items": null,
            "left": null,
            "margin": null,
            "max_height": null,
            "max_width": null,
            "min_height": null,
            "min_width": null,
            "object_fit": null,
            "object_position": null,
            "order": null,
            "overflow": null,
            "overflow_x": null,
            "overflow_y": null,
            "padding": null,
            "right": null,
            "top": null,
            "visibility": null,
            "width": null
          }
        },
        "902f82c5b3c547d7abcc936fee3adc1b": {
          "model_module": "@jupyter-widgets/base",
          "model_name": "LayoutModel",
          "model_module_version": "1.2.0",
          "state": {
            "_model_module": "@jupyter-widgets/base",
            "_model_module_version": "1.2.0",
            "_model_name": "LayoutModel",
            "_view_count": null,
            "_view_module": "@jupyter-widgets/base",
            "_view_module_version": "1.2.0",
            "_view_name": "LayoutView",
            "align_content": null,
            "align_items": null,
            "align_self": null,
            "border": null,
            "bottom": null,
            "display": null,
            "flex": null,
            "flex_flow": null,
            "grid_area": null,
            "grid_auto_columns": null,
            "grid_auto_flow": null,
            "grid_auto_rows": null,
            "grid_column": null,
            "grid_gap": null,
            "grid_row": null,
            "grid_template_areas": null,
            "grid_template_columns": null,
            "grid_template_rows": null,
            "height": null,
            "justify_content": null,
            "justify_items": null,
            "left": null,
            "margin": null,
            "max_height": null,
            "max_width": null,
            "min_height": null,
            "min_width": null,
            "object_fit": null,
            "object_position": null,
            "order": null,
            "overflow": null,
            "overflow_x": null,
            "overflow_y": null,
            "padding": null,
            "right": null,
            "top": null,
            "visibility": null,
            "width": null
          }
        },
        "1c0199b1796c4ebc8f1b3e4ca558cd7f": {
          "model_module": "@jupyter-widgets/controls",
          "model_name": "DescriptionStyleModel",
          "model_module_version": "1.5.0",
          "state": {
            "_model_module": "@jupyter-widgets/controls",
            "_model_module_version": "1.5.0",
            "_model_name": "DescriptionStyleModel",
            "_view_count": null,
            "_view_module": "@jupyter-widgets/base",
            "_view_module_version": "1.2.0",
            "_view_name": "StyleView",
            "description_width": ""
          }
        },
        "f0127c3028d7422eb5f1e1e5df40378e": {
          "model_module": "@jupyter-widgets/base",
          "model_name": "LayoutModel",
          "model_module_version": "1.2.0",
          "state": {
            "_model_module": "@jupyter-widgets/base",
            "_model_module_version": "1.2.0",
            "_model_name": "LayoutModel",
            "_view_count": null,
            "_view_module": "@jupyter-widgets/base",
            "_view_module_version": "1.2.0",
            "_view_name": "LayoutView",
            "align_content": null,
            "align_items": null,
            "align_self": null,
            "border": null,
            "bottom": null,
            "display": null,
            "flex": null,
            "flex_flow": null,
            "grid_area": null,
            "grid_auto_columns": null,
            "grid_auto_flow": null,
            "grid_auto_rows": null,
            "grid_column": null,
            "grid_gap": null,
            "grid_row": null,
            "grid_template_areas": null,
            "grid_template_columns": null,
            "grid_template_rows": null,
            "height": null,
            "justify_content": null,
            "justify_items": null,
            "left": null,
            "margin": null,
            "max_height": null,
            "max_width": null,
            "min_height": null,
            "min_width": null,
            "object_fit": null,
            "object_position": null,
            "order": null,
            "overflow": null,
            "overflow_x": null,
            "overflow_y": null,
            "padding": null,
            "right": null,
            "top": null,
            "visibility": null,
            "width": null
          }
        },
        "4ef4c9cf4ee948919fd4d99ba7506288": {
          "model_module": "@jupyter-widgets/controls",
          "model_name": "ProgressStyleModel",
          "model_module_version": "1.5.0",
          "state": {
            "_model_module": "@jupyter-widgets/controls",
            "_model_module_version": "1.5.0",
            "_model_name": "ProgressStyleModel",
            "_view_count": null,
            "_view_module": "@jupyter-widgets/base",
            "_view_module_version": "1.2.0",
            "_view_name": "StyleView",
            "bar_color": null,
            "description_width": ""
          }
        },
        "43f99095e1ca4769bd3818445506e720": {
          "model_module": "@jupyter-widgets/base",
          "model_name": "LayoutModel",
          "model_module_version": "1.2.0",
          "state": {
            "_model_module": "@jupyter-widgets/base",
            "_model_module_version": "1.2.0",
            "_model_name": "LayoutModel",
            "_view_count": null,
            "_view_module": "@jupyter-widgets/base",
            "_view_module_version": "1.2.0",
            "_view_name": "LayoutView",
            "align_content": null,
            "align_items": null,
            "align_self": null,
            "border": null,
            "bottom": null,
            "display": null,
            "flex": null,
            "flex_flow": null,
            "grid_area": null,
            "grid_auto_columns": null,
            "grid_auto_flow": null,
            "grid_auto_rows": null,
            "grid_column": null,
            "grid_gap": null,
            "grid_row": null,
            "grid_template_areas": null,
            "grid_template_columns": null,
            "grid_template_rows": null,
            "height": null,
            "justify_content": null,
            "justify_items": null,
            "left": null,
            "margin": null,
            "max_height": null,
            "max_width": null,
            "min_height": null,
            "min_width": null,
            "object_fit": null,
            "object_position": null,
            "order": null,
            "overflow": null,
            "overflow_x": null,
            "overflow_y": null,
            "padding": null,
            "right": null,
            "top": null,
            "visibility": null,
            "width": null
          }
        },
        "fa84a250b7b24dfdb992be88826f908c": {
          "model_module": "@jupyter-widgets/controls",
          "model_name": "DescriptionStyleModel",
          "model_module_version": "1.5.0",
          "state": {
            "_model_module": "@jupyter-widgets/controls",
            "_model_module_version": "1.5.0",
            "_model_name": "DescriptionStyleModel",
            "_view_count": null,
            "_view_module": "@jupyter-widgets/base",
            "_view_module_version": "1.2.0",
            "_view_name": "StyleView",
            "description_width": ""
          }
        }
      }
    }
  },
  "cells": [
    {
      "cell_type": "markdown",
      "source": [
        "本NoteBook介绍了BERT相关模型和知识蒸馏过程\n",
        "\n",
        "数据集：CoLL2003,分类数据集\n",
        "\n",
        "先查看不同参数量的模型bert-base-uncased、DistilBERT、TinyBERT模型在该数据集上的表现情况；\n",
        "\n",
        "此外，分析了两种学生模型的情况：\n",
        "- 预训练模型TinyBERT作为学生模型时，模型的表现情况\n",
        "- 自定义BERT模型结构作为学生模型，选择DistilBERT模型的部分层参数，然后观察表现情况"
      ],
      "metadata": {
        "id": "t8Gst5UuzTJe"
      }
    },
    {
      "cell_type": "code",
      "execution_count": null,
      "metadata": {
        "id": "oTu5rYAlXNHr"
      },
      "outputs": [],
      "source": [
        "import torch\n",
        "import torch.nn as nn\n",
        "from torch.utils.data import DataLoader,Dataset\n",
        "from transformers import BertTokenizer,BertModel"
      ]
    },
    {
      "cell_type": "code",
      "source": [
        "current_tag2id = {\n",
        "    'O': 0,\n",
        "    'B-PER': 1,\n",
        "    'I-PER': 2,\n",
        "    'B-ORG': 3,\n",
        "    'I-ORG': 4,\n",
        "    'B-LOC': 5,\n",
        "    'I-LOC': 6,\n",
        "    'B-MISC': 7,\n",
        "    'I-MISC': 8\n",
        "}"
      ],
      "metadata": {
        "id": "UvKi4H2NzGKC"
      },
      "execution_count": null,
      "outputs": []
    },
    {
      "cell_type": "code",
      "source": [
        "def parse_conll2003(file_path):\n",
        "    sentences, labels = [], []\n",
        "    sentence, label = [], []\n",
        "    with open(file_path, 'r', encoding='utf-8') as f:\n",
        "        for line in f:\n",
        "            if line.strip() == '':\n",
        "                if sentence:\n",
        "                    sentences.append(sentence)\n",
        "                    labels.append(label)\n",
        "                    sentence, label = [], []\n",
        "            else:\n",
        "                token, _, _, tag = line.strip().split()\n",
        "                sentence.append(token)\n",
        "                label.append(tag)\n",
        "    return sentences, labels"
      ],
      "metadata": {
        "id": "5Uuu1QRbXOUp"
      },
      "execution_count": null,
      "outputs": []
    },
    {
      "cell_type": "code",
      "source": [
        "file_path = \"../content/test.txt\"\n",
        "sentences,labels = parse_conll2003(file_path)\n",
        "sentences_test = sentences[:1500]\n",
        "labels_test = labels[:1500]"
      ],
      "metadata": {
        "id": "udtej3gE3-pJ"
      },
      "execution_count": null,
      "outputs": []
    },
    {
      "cell_type": "code",
      "source": [
        "file_path = \"../content/train.txt\"\n",
        "sentences,labels = parse_conll2003(file_path)#len(sentences) = 14987\n",
        "sentences[1],labels[1]"
      ],
      "metadata": {
        "colab": {
          "base_uri": "https://localhost:8080/"
        },
        "id": "_AwUYLeSXQIm",
        "outputId": "b6a0d34b-7289-45b9-8be8-1092c7a89b14"
      },
      "execution_count": null,
      "outputs": [
        {
          "output_type": "execute_result",
          "data": {
            "text/plain": [
              "(['EU', 'rejects', 'German', 'call', 'to', 'boycott', 'British', 'lamb', '.'],\n",
              " ['B-ORG', 'O', 'B-MISC', 'O', 'O', 'O', 'B-MISC', 'O', 'O'])"
            ]
          },
          "metadata": {},
          "execution_count": 27
        }
      ]
    },
    {
      "cell_type": "code",
      "source": [
        "class NERDataset(Dataset):\n",
        "    def __init__(self, sentences, labels, tokenizer, max_len=128, current_tag2id=current_tag2id):\n",
        "        self.sentences = sentences\n",
        "        self.labels = labels\n",
        "        self.tokenizer = tokenizer\n",
        "        self.max_len = max_len\n",
        "        self.current_tag2id = current_tag2id or {'O': 0}\n",
        "\n",
        "    def __len__(self):\n",
        "        return len(self.sentences)\n",
        "\n",
        "    def __getitem__(self, idx):\n",
        "        sentence = self.sentences[idx]\n",
        "        label = self.labels[idx]\n",
        "        tokens = []\n",
        "        label_ids = []\n",
        "        for word, tag in zip(sentence, label):\n",
        "            word_tokens = self.tokenizer.tokenize(word)\n",
        "            if word_tokens:\n",
        "                tokens.extend(word_tokens)\n",
        "                label_ids.extend([self.current_tag2id.get(tag, 0)] + [-100] * (len(word_tokens) - 1))\n",
        "        tokens = ['[CLS]'] + tokens + ['[SEP]']\n",
        "        label_ids = [-100] + label_ids + [-100]\n",
        "        if len(tokens) > self.max_len:\n",
        "            tokens = tokens[:self.max_len]\n",
        "            label_ids = label_ids[:self.max_len]\n",
        "        else:\n",
        "            padding_len = self.max_len - len(tokens)\n",
        "            tokens += ['[PAD]'] * padding_len\n",
        "            label_ids += [-100] * padding_len\n",
        "        input_ids = self.tokenizer.convert_tokens_to_ids(tokens)\n",
        "        attention_mask = [1 if token != '[PAD]' else 0 for token in tokens]\n",
        "        return {\n",
        "            'input_ids': torch.tensor(input_ids),\n",
        "            'attention_mask': torch.tensor(attention_mask),\n",
        "            'labels': torch.tensor(label_ids)\n",
        "        }"
      ],
      "metadata": {
        "id": "oQpArwVnXai4"
      },
      "execution_count": null,
      "outputs": []
    },
    {
      "cell_type": "code",
      "source": [
        "tokenizer = BertTokenizer.from_pretrained(\"bert-base-uncased\")\n",
        "Dataset = NERDataset(sentences,labels,tokenizer)"
      ],
      "metadata": {
        "id": "nL6GGhDNXcwf"
      },
      "execution_count": null,
      "outputs": []
    },
    {
      "cell_type": "code",
      "source": [
        "from torch.utils.data import DataLoader\n",
        "\n",
        "data_loader = DataLoader(Dataset,batch_size=32,shuffle=True)\n",
        "for loader in data_loader:\n",
        "    a = loader[\"input_ids\"]\n",
        "    print(len(a))\n",
        "    break\n",
        "len(data_loader)"
      ],
      "metadata": {
        "colab": {
          "base_uri": "https://localhost:8080/"
        },
        "id": "76W0Wrh6Xd8t",
        "outputId": "e7c95457-625f-4512-e076-e7c6805ba851"
      },
      "execution_count": null,
      "outputs": [
        {
          "output_type": "stream",
          "name": "stdout",
          "text": [
            "32\n"
          ]
        },
        {
          "output_type": "execute_result",
          "data": {
            "text/plain": [
              "469"
            ]
          },
          "metadata": {},
          "execution_count": 30
        }
      ]
    },
    {
      "cell_type": "code",
      "source": [
        "Dataset_test = NERDataset(sentences_test,labels_test,tokenizer)\n",
        "data_loader_test = DataLoader(Dataset_test,batch_size=32,shuffle=True)"
      ],
      "metadata": {
        "id": "AlOAPMkO5Wxv"
      },
      "execution_count": null,
      "outputs": []
    },
    {
      "cell_type": "code",
      "source": [
        "class BertNER(nn.Module):\n",
        "    def __init__(self, model,num_labels):\n",
        "        super(BertNER, self).__init__()\n",
        "        self.bert = model\n",
        "        self.dropout = nn.Dropout(0.1)\n",
        "        self.classifier = nn.Linear(self.bert.config.hidden_size, num_labels)\n",
        "        self.num_labels = num_labels\n",
        "\n",
        "    def forward(self, input_ids, attention_mask):\n",
        "        outputs = self.bert(input_ids, attention_mask=attention_mask)\n",
        "        sequence_output = outputs[0]\n",
        "        sequence_output = self.dropout(sequence_output)\n",
        "        logits = self.classifier(sequence_output)#如果是10类，这个logits是向量？logits是未归一化的原始值，值可正可负\n",
        "        return logits\n",
        "\n",
        "    def extend_output_layer(self, new_labels):\n",
        "        # 动态扩展输出层以适应新实体类型\n",
        "        new_num_labels = self.num_labels + len(new_labels)\n",
        "        old_classifier = self.classifier\n",
        "        self.classifier = nn.Linear(self.bert.config.hidden_size, new_num_labels)\n",
        "        with torch.no_grad():\n",
        "            self.classifier.weight[:old_classifier.weight.size(0)] = old_classifier.weight\n",
        "            self.classifier.bias[:old_classifier.bias.size(0)] = old_classifier.bias\n",
        "        self.num_labels = new_num_labels"
      ],
      "metadata": {
        "id": "XhTrVhkjXe3d"
      },
      "execution_count": null,
      "outputs": []
    },
    {
      "cell_type": "code",
      "source": [
        "from torch.nn.functional import kl_div, log_softmax, softmax\n",
        "\n",
        "def train_with_distillation(model, teacher_model, dataloader, optimizer, device, alpha=0.3, T_m=2.0):\n",
        "    model.train()\n",
        "    if teacher_model:\n",
        "        teacher_model.eval()\n",
        "    total_loss = 0\n",
        "    # student_loss = []\n",
        "    # teacher_loss = []\n",
        "    criterion = nn.CrossEntropyLoss(ignore_index=-100)\n",
        "    for step, batch in enumerate(dataloader, 1):#len(dataloader) = 469\n",
        "        input_ids = batch['input_ids'].to(device)\n",
        "        attention_mask = batch['attention_mask'].to(device)\n",
        "        labels = batch['labels'].to(device)\n",
        "        logits = model(input_ids, attention_mask)\n",
        "        ce_loss = criterion(logits.view(-1, model.num_labels), labels.view(-1))\n",
        "        if teacher_model:\n",
        "            with torch.no_grad():\n",
        "                teacher_logits = teacher_model(input_ids, attention_mask)\n",
        "            kl_loss = kl_div(log_softmax(logits / T_m, dim=-1),\n",
        "                            softmax(teacher_logits / T_m, dim=-1),\n",
        "                            reduction='batchmean') * (T_m ** 2)\n",
        "            loss = alpha * kl_loss + (1-alpha) * ce_loss\n",
        "            # student_loss.append(loss.item())\n",
        "        else:\n",
        "            loss = ce_loss\n",
        "            # teacher_loss.append(loss.item())\n",
        "        optimizer.zero_grad()\n",
        "        loss.backward()\n",
        "        optimizer.step()\n",
        "        total_loss += loss.item()#loss是张量，张量转标量，然后相加\n",
        "        if step == 1 or step % 50 == 0 or step == len(dataloader):\n",
        "          print(f\"[{step}/{len(dataloader)}] Loss: {loss.item():.5f}\")\n",
        "    return total_loss / len(dataloader)"
      ],
      "metadata": {
        "id": "NODYPJ4kXjXv"
      },
      "execution_count": null,
      "outputs": []
    },
    {
      "cell_type": "code",
      "source": [
        "torch.cuda.is_available()"
      ],
      "metadata": {
        "colab": {
          "base_uri": "https://localhost:8080/"
        },
        "id": "eBGeIUD4Xp3h",
        "outputId": "10520e4b-bb85-4ffb-87f3-4edf765811d6"
      },
      "execution_count": null,
      "outputs": [
        {
          "output_type": "execute_result",
          "data": {
            "text/plain": [
              "True"
            ]
          },
          "metadata": {},
          "execution_count": 34
        }
      ]
    },
    {
      "cell_type": "markdown",
      "source": [
        "📌训练一个大模型（bert-base-uncased模型）作为教师模型，效果是怎么样的呢？"
      ],
      "metadata": {
        "id": "9Ex98NwozGi4"
      }
    },
    {
      "cell_type": "code",
      "source": [
        "import torch.optim as optim\n",
        "device = torch.device('cuda' if torch.cuda.is_available() else 'cpu')\n",
        "bert_model = BertModel.from_pretrained('bert-base-uncased')\n",
        "teacher = BertNER(bert_model,num_labels=9).to(device)#加载预训练模型\n",
        "optimizer = optim.Adam(teacher.parameters(), lr=2e-5)\n",
        "print(next(teacher.parameters()).device)"
      ],
      "metadata": {
        "colab": {
          "base_uri": "https://localhost:8080/"
        },
        "id": "PclGnwFoXqQP",
        "outputId": "d1576850-991a-482b-9eef-cc79448e5fd5"
      },
      "execution_count": null,
      "outputs": [
        {
          "output_type": "stream",
          "name": "stdout",
          "text": [
            "cuda:0\n"
          ]
        }
      ]
    },
    {
      "cell_type": "code",
      "source": [
        "avg_loss_teacher = train_with_distillation(\n",
        "    model=teacher,\n",
        "    teacher_model=None,        # 传 None\n",
        "    dataloader=data_loader,\n",
        "    optimizer=optimizer,\n",
        "    device=device,\n",
        "    alpha=0.3,\n",
        "    T_m=2.0\n",
        ")\n",
        "avg_loss_teacher"
      ],
      "metadata": {
        "colab": {
          "base_uri": "https://localhost:8080/"
        },
        "id": "mTZDC331Oozj",
        "outputId": "6cb51c7a-ad73-4411-e4bc-322323d8efee"
      },
      "execution_count": null,
      "outputs": [
        {
          "output_type": "stream",
          "name": "stdout",
          "text": [
            "[1/469] Loss: 2.32392\n",
            "[50/469] Loss: 0.37947\n",
            "[100/469] Loss: 0.18251\n",
            "[150/469] Loss: 0.13941\n",
            "[200/469] Loss: 0.08540\n",
            "[250/469] Loss: 0.05417\n",
            "[300/469] Loss: 0.07554\n",
            "[350/469] Loss: 0.12813\n",
            "[400/469] Loss: 0.03128\n",
            "[450/469] Loss: 0.06368\n",
            "[469/469] Loss: 0.10199\n"
          ]
        },
        {
          "output_type": "execute_result",
          "data": {
            "text/plain": [
              "0.18652058681890146"
            ]
          },
          "metadata": {},
          "execution_count": 36
        }
      ]
    },
    {
      "cell_type": "code",
      "source": [
        "model_size = sum(param.numel() * param.element_size() for param in teacher.parameters())\n",
        "print(f\"Teacher Model【bert-base-uncased】 size: {model_size/(1024**2):.2f}MB\")"
      ],
      "metadata": {
        "colab": {
          "base_uri": "https://localhost:8080/"
        },
        "id": "0vXN29okzNH3",
        "outputId": "b0c259e2-ca1d-46b5-be8d-99919f3d5f21"
      },
      "execution_count": null,
      "outputs": [
        {
          "output_type": "stream",
          "name": "stdout",
          "text": [
            "Teacher Model【bert-base-uncased】 size: 417.67MB\n"
          ]
        }
      ]
    },
    {
      "cell_type": "code",
      "source": [
        "total_loss_teacher = 0\n",
        "criterion = nn.CrossEntropyLoss(ignore_index=-100)\n",
        "for step, batch in enumerate(data_loader_test, 1):#len(dataloader) = 469\n",
        "  input_ids = batch['input_ids'].to(device)\n",
        "  attention_mask = batch['attention_mask'].to(device)\n",
        "  labels = batch['labels'].to(device)\n",
        "  logits = teacher(input_ids, attention_mask)\n",
        "  ce_loss = criterion(logits.view(-1, teacher.num_labels), labels.view(-1))\n",
        "  total_loss_teacher += ce_loss.item()\n",
        "total_loss_teacher"
      ],
      "metadata": {
        "colab": {
          "base_uri": "https://localhost:8080/"
        },
        "id": "zg06jZrQ6jls",
        "outputId": "0a86cf6a-1f2e-4b8b-e299-f1a6fa41339c"
      },
      "execution_count": null,
      "outputs": [
        {
          "output_type": "execute_result",
          "data": {
            "text/plain": [
              "4.037542760372162"
            ]
          },
          "metadata": {},
          "execution_count": 39
        }
      ]
    },
    {
      "cell_type": "markdown",
      "source": [
        "可以看到【bert-base-uncased】：\n",
        "- 训练时长总共花了5分钟，\n",
        "- 教师模型的参数量大小为417.67MB，\n",
        "- 最终的`avg_loss_teacher`为0.186左右\n",
        "- 测试集损失在4.037左右"
      ],
      "metadata": {
        "id": "rRh4vKdcqoB3"
      }
    },
    {
      "cell_type": "markdown",
      "source": [
        "📌如果我直接训练一个小模型（distilbert模型），效果是怎么样的呢？"
      ],
      "metadata": {
        "id": "GHmR24Leyfue"
      }
    },
    {
      "cell_type": "code",
      "source": [
        "import torch.optim as optim\n",
        "from transformers import DistilBertModel\n",
        "\n",
        "device = torch.device('cuda' if torch.cuda.is_available() else 'cpu')\n",
        "\n",
        "DistilBERT_Student_model = DistilBertModel.from_pretrained('distilbert-base-uncased')\n",
        "distilbert = BertNER(DistilBERT_Student_model,num_labels=9).to(device)#加载预训练模型\n",
        "optimizer = optim.Adam(distilbert.parameters(), lr=2e-5)\n",
        "avg_loss_distilbert = train_with_distillation(\n",
        "    model=distilbert,\n",
        "    teacher_model=None,        # 传 None\n",
        "    dataloader=data_loader,\n",
        "    optimizer=optimizer,\n",
        "    device=device,\n",
        "    alpha=0.3,\n",
        "    T_m=2.0\n",
        ")\n",
        "avg_loss_distilbert"
      ],
      "metadata": {
        "colab": {
          "base_uri": "https://localhost:8080/"
        },
        "id": "L5DkUeWEylRn",
        "outputId": "74039475-9879-4c4a-a26d-080170414140"
      },
      "execution_count": null,
      "outputs": [
        {
          "output_type": "stream",
          "name": "stdout",
          "text": [
            "[1/469] Loss: 2.34545\n",
            "[50/469] Loss: 0.45150\n",
            "[100/469] Loss: 0.27685\n",
            "[150/469] Loss: 0.09157\n",
            "[200/469] Loss: 0.05214\n",
            "[250/469] Loss: 0.05519\n",
            "[300/469] Loss: 0.12074\n",
            "[350/469] Loss: 0.11109\n",
            "[400/469] Loss: 0.06805\n",
            "[450/469] Loss: 0.03243\n",
            "[469/469] Loss: 0.04553\n"
          ]
        },
        {
          "output_type": "execute_result",
          "data": {
            "text/plain": [
              "0.2081779987334824"
            ]
          },
          "metadata": {},
          "execution_count": 41
        }
      ]
    },
    {
      "cell_type": "code",
      "source": [
        "# model_size = sum(param.numel() * param.element_size() for param in distilbert.parameters())\n",
        "# print(f\"Distilbert Model size: {model_size/(1024**2):.2f}MB\")"
      ],
      "metadata": {
        "id": "_Gygnxf9ynn6"
      },
      "execution_count": null,
      "outputs": []
    },
    {
      "cell_type": "code",
      "source": [
        "#查看一下模型层数，因为待会儿（最后部分）我们要提取第1层，第3层，第6层,即[0,2,5]\n",
        "print(f\"Encoder 层数（from config）: {DistilBERT_Student_model.config.num_hidden_layers}\")"
      ],
      "metadata": {
        "colab": {
          "base_uri": "https://localhost:8080/"
        },
        "id": "MVHlWTkmjO3-",
        "outputId": "dc1836df-e359-4c46-f024-1290182a1cc0"
      },
      "execution_count": null,
      "outputs": [
        {
          "output_type": "stream",
          "name": "stdout",
          "text": [
            "Encoder 层数（from config）: 6\n"
          ]
        }
      ]
    },
    {
      "cell_type": "code",
      "source": [
        "total_loss_teacher = 0\n",
        "criterion = nn.CrossEntropyLoss(ignore_index=-100)\n",
        "for step, batch in enumerate(data_loader_test, 1):#len(dataloader) = 469\n",
        "  input_ids = batch['input_ids'].to(device)\n",
        "  attention_mask = batch['attention_mask'].to(device)\n",
        "  labels = batch['labels'].to(device)\n",
        "  logits = distilbert(input_ids, attention_mask)\n",
        "  ce_loss = criterion(logits.view(-1, distilbert.num_labels), labels.view(-1))\n",
        "  total_loss_teacher += ce_loss.item()\n",
        "total_loss_teacher"
      ],
      "metadata": {
        "colab": {
          "base_uri": "https://localhost:8080/"
        },
        "id": "vL8zp7Bs6vjc",
        "outputId": "644df672-b879-4846-f91b-ba32ebe2eb08"
      },
      "execution_count": null,
      "outputs": [
        {
          "output_type": "execute_result",
          "data": {
            "text/plain": [
              "4.370914436876774"
            ]
          },
          "metadata": {},
          "execution_count": 44
        }
      ]
    },
    {
      "cell_type": "markdown",
      "source": [
        "可以看到【Distilbert】：\n",
        "- 训练时长总共花了2分钟，\n",
        "- 学生模型的参数量大小为253.18MB，\n",
        "- 最终的`avg_loss_distilbert`为0.21左右\n",
        "- 测试损失在4.371左右"
      ],
      "metadata": {
        "id": "d1NtKSp_ntH2"
      }
    },
    {
      "cell_type": "markdown",
      "source": [
        "📌如果我直接训练一个小模型（TinyBert模型），效果是怎么样的呢？"
      ],
      "metadata": {
        "id": "d6Yc3WMe1na7"
      }
    },
    {
      "cell_type": "code",
      "source": [
        "from transformers import AutoModel\n",
        "\n",
        "model = AutoModel.from_pretrained(\"huawei-noah/TinyBERT_General_4L_312D\")\n",
        "Tinybert = BertNER(model,num_labels=9).to(device)#加载预训练模型\n",
        "\n",
        "optimizer = optim.Adam(Tinybert.parameters(), lr=2e-5)\n",
        "avg_loss_Tinybert = train_with_distillation(\n",
        "    model=Tinybert,\n",
        "    teacher_model=None,        # 传入 None\n",
        "    dataloader=data_loader,\n",
        "    optimizer=optimizer,\n",
        "    device=device,\n",
        "    alpha=0.3,\n",
        "    T_m=2.0\n",
        ")\n",
        "avg_loss_Tinybert"
      ],
      "metadata": {
        "colab": {
          "base_uri": "https://localhost:8080/",
          "height": 334,
          "referenced_widgets": [
            "68363c0db1c744ddab5e37c5f926ae6a",
            "d0902a55277f48eeaf7c7251ea894439",
            "f62a58d7f0164617b475356a4a925cdc",
            "e15e27f411a649d780d8a4157791df5c",
            "a4eb4a6f77e54fd29f33a9b1638a98f4",
            "d151346d0e684dd7a8ed80723f9afb54",
            "3bccdda9e91a4173b93f5fec853513b1",
            "cb9279eb8f514f738df9934f0897ae15",
            "3bda149486fb4a2c9e65d3eca4887091",
            "f41c9be6ef5c469d8bd19d99e9d13ac4",
            "dc170f50546145e3a72ecf0b015ba7dc",
            "8deaae2f4f714126ae216d608caf11b5",
            "071be98422c24a10b0c69bc25ed1b983",
            "7282322cd50b4428a1c4813fc4d41444",
            "2363269d0d33464db26a63d84e06001f",
            "91ef41d7000542cf883cb88cb9be450d",
            "a95c8cf3cba544049be6fd86def60322",
            "468a2df1a8cc4ea6957f80ca2cdd61cf",
            "d7a8437649f04166ba0e613f3ef215a1",
            "e8ea8065543046da9541bec3c6d35020",
            "8de0fc57d6204a2fa77c08496f1b2bd5",
            "711c662b97964f72aa4ad3767a1de123",
            "36dc372d75324eea8c4df793faca097d",
            "d44387b5a67d41d486767748b45575bd",
            "0b997ee1c935452d8da85c2f7fd391c1",
            "eee5731ada684d999a1ca5715fb0f3e1",
            "f0796a14fba242899d1953c920ffe617",
            "902f82c5b3c547d7abcc936fee3adc1b",
            "1c0199b1796c4ebc8f1b3e4ca558cd7f",
            "f0127c3028d7422eb5f1e1e5df40378e",
            "4ef4c9cf4ee948919fd4d99ba7506288",
            "43f99095e1ca4769bd3818445506e720",
            "fa84a250b7b24dfdb992be88826f908c"
          ]
        },
        "id": "cLLw13Si0vks",
        "outputId": "5e287683-4326-4cce-b2d9-a85b19653670"
      },
      "execution_count": null,
      "outputs": [
        {
          "output_type": "display_data",
          "data": {
            "text/plain": [
              "config.json:   0%|          | 0.00/409 [00:00<?, ?B/s]"
            ],
            "application/vnd.jupyter.widget-view+json": {
              "version_major": 2,
              "version_minor": 0,
              "model_id": "68363c0db1c744ddab5e37c5f926ae6a"
            }
          },
          "metadata": {}
        },
        {
          "output_type": "display_data",
          "data": {
            "text/plain": [
              "pytorch_model.bin:   0%|          | 0.00/62.7M [00:00<?, ?B/s]"
            ],
            "application/vnd.jupyter.widget-view+json": {
              "version_major": 2,
              "version_minor": 0,
              "model_id": "8deaae2f4f714126ae216d608caf11b5"
            }
          },
          "metadata": {}
        },
        {
          "output_type": "stream",
          "name": "stdout",
          "text": [
            "[1/469] Loss: 2.36529\n"
          ]
        },
        {
          "output_type": "display_data",
          "data": {
            "text/plain": [
              "model.safetensors:   0%|          | 0.00/62.7M [00:00<?, ?B/s]"
            ],
            "application/vnd.jupyter.widget-view+json": {
              "version_major": 2,
              "version_minor": 0,
              "model_id": "36dc372d75324eea8c4df793faca097d"
            }
          },
          "metadata": {}
        },
        {
          "output_type": "stream",
          "name": "stdout",
          "text": [
            "[50/469] Loss: 0.81826\n",
            "[100/469] Loss: 0.47840\n",
            "[150/469] Loss: 0.27166\n",
            "[200/469] Loss: 0.32811\n",
            "[250/469] Loss: 0.27256\n",
            "[300/469] Loss: 0.24039\n",
            "[350/469] Loss: 0.33048\n",
            "[400/469] Loss: 0.16925\n",
            "[450/469] Loss: 0.17254\n",
            "[469/469] Loss: 0.19439\n"
          ]
        },
        {
          "output_type": "execute_result",
          "data": {
            "text/plain": [
              "0.35843750121179163"
            ]
          },
          "metadata": {},
          "execution_count": 45
        }
      ]
    },
    {
      "cell_type": "code",
      "source": [
        "model_size = sum(param.numel() * param.element_size() for param in Tinybert.parameters())\n",
        "print(f\"Tinylbert Model size: {model_size/(1024**2):.2f}MB\")"
      ],
      "metadata": {
        "colab": {
          "base_uri": "https://localhost:8080/"
        },
        "id": "khhi4QcF1T5j",
        "outputId": "1d43857b-e033-4f8b-f37f-4279d3a7c3a8"
      },
      "execution_count": null,
      "outputs": [
        {
          "output_type": "stream",
          "name": "stdout",
          "text": [
            "Tinylbert Model size: 54.75MB\n"
          ]
        }
      ]
    },
    {
      "cell_type": "code",
      "source": [
        "#模型在测试集上的效果\n",
        "total_loss = 0\n",
        "criterion = nn.CrossEntropyLoss(ignore_index=-100)\n",
        "for step, batch in enumerate(data_loader_test, 1):#len(dataloader) = 469\n",
        "  input_ids = batch['input_ids'].to(device)\n",
        "  attention_mask = batch['attention_mask'].to(device)\n",
        "  labels = batch['labels'].to(device)\n",
        "  logits = Tinybert(input_ids, attention_mask)\n",
        "  ce_loss = criterion(logits.view(-1, Tinybert.num_labels), labels.view(-1))\n",
        "  total_loss += ce_loss.item()\n",
        "total_loss"
      ],
      "metadata": {
        "colab": {
          "base_uri": "https://localhost:8080/"
        },
        "id": "_o_ZEAhZ4kFu",
        "outputId": "d70c5f45-2ce7-42c0-b509-33bef1a89c97"
      },
      "execution_count": null,
      "outputs": [
        {
          "output_type": "execute_result",
          "data": {
            "text/plain": [
              "9.416891254484653"
            ]
          },
          "metadata": {},
          "execution_count": 46
        }
      ]
    },
    {
      "cell_type": "markdown",
      "source": [
        "可以看到【TinyBert】：\n",
        "- 训练时长总共花了32秒，\n",
        "- 学生模型的参数量大小为54.75MB，\n",
        "- 最终的`avg_loss_TinyBert`为0.358左右\n",
        "- 最终测试集损失在9.417"
      ],
      "metadata": {
        "id": "oki0xPlvnp95"
      }
    },
    {
      "cell_type": "markdown",
      "source": [
        "📌好，接下来咱们开始蒸馏，来查看一下使用`TinyBert`作为BaseLine得到的学生模型是不是要比直接训练`TinyBert`的效果要好"
      ],
      "metadata": {
        "id": "qap56GFF3e_I"
      }
    },
    {
      "cell_type": "code",
      "source": [
        "model = AutoModel.from_pretrained(\"huawei-noah/TinyBERT_General_4L_312D\")\n",
        "Tinybert_Student = BertNER(model,num_labels=9).to(device)#加载预训练模型"
      ],
      "metadata": {
        "id": "bqXoOnGD7FVe"
      },
      "execution_count": null,
      "outputs": []
    },
    {
      "cell_type": "code",
      "source": [
        "optimizer = optim.Adam(Tinybert_Student.parameters(), lr=2e-5)\n",
        "\n",
        "avg_loss_student = train_with_distillation(\n",
        "    model=Tinybert_Student,\n",
        "    teacher_model=teacher,\n",
        "    dataloader=data_loader,\n",
        "    optimizer=optimizer,\n",
        "    device=device,\n",
        "    alpha=0.3,\n",
        "    T_m=2.0\n",
        ")\n"
      ],
      "metadata": {
        "colab": {
          "base_uri": "https://localhost:8080/"
        },
        "id": "_l2oj-C32lPR",
        "outputId": "de1d99b0-0ad9-414f-f8e4-3da434c17562"
      },
      "execution_count": null,
      "outputs": [
        {
          "output_type": "stream",
          "name": "stdout",
          "text": [
            "[1/469] Loss: 10.54618\n",
            "[50/469] Loss: 12.98627\n",
            "[100/469] Loss: 13.38211\n",
            "[150/469] Loss: 15.60458\n",
            "[200/469] Loss: 13.52334\n",
            "[250/469] Loss: 16.46437\n",
            "[300/469] Loss: 12.29873\n",
            "[350/469] Loss: 10.20807\n",
            "[400/469] Loss: 11.75377\n",
            "[450/469] Loss: 14.29638\n",
            "[469/469] Loss: 8.14688\n"
          ]
        }
      ]
    },
    {
      "cell_type": "code",
      "source": [
        "#模型在测试集上的效果\n",
        "total_loss = 0\n",
        "criterion = nn.CrossEntropyLoss(ignore_index=-100)\n",
        "for step, batch in enumerate(data_loader_test, 1):#len(dataloader) = 469\n",
        "  input_ids = batch['input_ids'].to(device)\n",
        "  attention_mask = batch['attention_mask'].to(device)\n",
        "  labels = batch['labels'].to(device)\n",
        "  logits = Tinybert_Student(input_ids, attention_mask)\n",
        "  ce_loss = criterion(logits.view(-1, Tinybert_Student.num_labels), labels.view(-1))\n",
        "  total_loss += ce_loss.item()\n",
        "total_loss"
      ],
      "metadata": {
        "colab": {
          "base_uri": "https://localhost:8080/"
        },
        "id": "lcAw45V72lIZ",
        "outputId": "25a61af1-9176-4642-9ccf-42f4a46b1d24"
      },
      "execution_count": null,
      "outputs": [
        {
          "output_type": "execute_result",
          "data": {
            "text/plain": [
              "9.209900744259357"
            ]
          },
          "metadata": {},
          "execution_count": 58
        }
      ]
    },
    {
      "cell_type": "markdown",
      "source": [
        "可以看到【Tinybert_Student】：\n",
        "- 蒸馏时长花了2分钟，\n",
        "- 学生模型的参数量大小依然为54.75MB（和TinyBert一样）\n",
        "- 最终测试集损失在9.2"
      ],
      "metadata": {
        "id": "NPh-DKURCnQw"
      }
    },
    {
      "cell_type": "markdown",
      "source": [
        "📌好，接下来咱们换一个学生模型，将Teacher模型的部分层【也就是0、2、5层】的权重通过深拷贝，赋值给自定义的学生模型"
      ],
      "metadata": {
        "id": "Fjup81tHg6V_"
      }
    },
    {
      "cell_type": "code",
      "source": [
        "import copy\n",
        "from transformers import DistilBertModel, DistilBertConfig\n",
        "\n",
        "# === 2. 创建学生模型配置（6层） ===\n",
        "student_config = copy.deepcopy(DistilBERT_Student_model.config)\n",
        "student_config.num_hidden_layers = 3\n",
        "student_model = DistilBertModel(student_config)\n",
        "\n",
        "# === 4. 选取教师模型中的层（每隔一层）拷贝到学生模型 ===\n",
        "selected_teacher_layers = [0, 2, 5]\n",
        "\n",
        "for student_layer_idx, teacher_layer_idx in enumerate(selected_teacher_layers):\n",
        "    student_model.transformer.layer[student_layer_idx].load_state_dict(\n",
        "        DistilBERT_Student_model.transformer.layer[teacher_layer_idx].state_dict()\n",
        "    )\n",
        "\n"
      ],
      "metadata": {
        "id": "Klpm0ZPY2lAx"
      },
      "execution_count": null,
      "outputs": []
    },
    {
      "cell_type": "code",
      "source": [
        "distilbert_student = BertNER(student_model,num_labels=9).to(device)#加载预训练模型\n",
        "model_size = sum(param.numel() * param.element_size() for param in distilbert_student.parameters())\n",
        "print(f\"Distilbert Model size: {model_size/(1024**2):.2f}MB\")\n"
      ],
      "metadata": {
        "id": "StyNPKE52k4q",
        "colab": {
          "base_uri": "https://localhost:8080/"
        },
        "outputId": "c1b48d93-b42c-4fa3-8699-995434bac340"
      },
      "execution_count": null,
      "outputs": [
        {
          "output_type": "stream",
          "name": "stdout",
          "text": [
            "Distilbert Model size: 172.07MB\n"
          ]
        }
      ]
    },
    {
      "cell_type": "code",
      "source": [
        "optimizer = optim.Adam(distilbert_student.parameters(), lr=2e-4)\n",
        "avg_loss_distilbert = train_with_distillation(\n",
        "    model=distilbert_student,\n",
        "    teacher_model=distilbert,        # 传 None\n",
        "    dataloader=data_loader,\n",
        "    optimizer=optimizer,\n",
        "    device=device,\n",
        "    alpha=0.3,\n",
        "    T_m=2.0\n",
        ")"
      ],
      "metadata": {
        "id": "r962bBpT2ksx",
        "colab": {
          "base_uri": "https://localhost:8080/"
        },
        "outputId": "c0889d8d-8be5-4938-9976-ce04ec21bf70"
      },
      "execution_count": null,
      "outputs": [
        {
          "output_type": "stream",
          "name": "stdout",
          "text": [
            "[1/469] Loss: 34.72672\n",
            "[50/469] Loss: 37.75502\n",
            "[100/469] Loss: 34.44826\n",
            "[150/469] Loss: 32.47401\n",
            "[200/469] Loss: 30.43495\n",
            "[250/469] Loss: 24.58235\n",
            "[300/469] Loss: 17.48047\n",
            "[350/469] Loss: 20.76854\n",
            "[400/469] Loss: 19.20379\n",
            "[450/469] Loss: 14.74362\n",
            "[469/469] Loss: 18.37824\n"
          ]
        }
      ]
    },
    {
      "cell_type": "code",
      "source": [
        "#模型在测试集上的效果\n",
        "total_loss = 0\n",
        "criterion = nn.CrossEntropyLoss(ignore_index=-100)\n",
        "for step, batch in enumerate(data_loader_test, 1):#len(dataloader) = 469\n",
        "  input_ids = batch['input_ids'].to(device)\n",
        "  attention_mask = batch['attention_mask'].to(device)\n",
        "  labels = batch['labels'].to(device)\n",
        "  logits = distilbert_student(input_ids, attention_mask)\n",
        "  ce_loss = criterion(logits.view(-1, distilbert_student.num_labels), labels.view(-1))\n",
        "  total_loss += ce_loss.item()\n",
        "total_loss"
      ],
      "metadata": {
        "id": "vr_hPyU-2kjZ",
        "colab": {
          "base_uri": "https://localhost:8080/"
        },
        "outputId": "4194d030-f1dd-4e3f-ee3c-ac98be8090b8"
      },
      "execution_count": null,
      "outputs": [
        {
          "output_type": "execute_result",
          "data": {
            "text/plain": [
              "21.31545290350914"
            ]
          },
          "metadata": {},
          "execution_count": 64
        }
      ]
    },
    {
      "cell_type": "code",
      "source": [],
      "metadata": {
        "id": "3jUKHpu72kcB"
      },
      "execution_count": null,
      "outputs": []
    }
  ]
}